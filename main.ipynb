{
 "cells": [
  {
   "cell_type": "markdown",
   "metadata": {},
   "source": [
    "# GoodReads Data\n",
    "## Why this Data?\n",
    "Though I am not avid reader but I read books quite sometimes. thats why I am intrested to do the analysis on this data. GoodReads is a quite poupular and reliable source for all type of books, you can get a copy, summary, review and many other things regarding books.\n",
    "\n",
    "# Overview of Data\n",
    "`bookID` = It contains the id of books, starting from one to n number of obervations.\n",
    "<br>\n",
    "`title` = It contains the titel fo book.\n",
    "<br>\n",
    "`authors` = It contains the outhor of book.\n",
    "<br>\n",
    "`average_rating` = It contains the rating of a book. from 0 to 5\n",
    "<br>\n",
    "`cust_satisfaction` = It states the satisfaction of a customer.\n",
    "<br>\n",
    "If rating is between 0-1 then satisfaction would be \"didn't like it\", \n",
    "<br>\n",
    "[1-2 = 'it was OK'], \n",
    "<br>\n",
    "[2-3 = 'liked it'],\n",
    "<br>\n",
    "[3-4 = 'Really liked it'], \n",
    "<br>\n",
    "[4-5 = 'it was amazing']\n",
    "<br>\n",
    "`isbn` = Unique identifier of the book.\n",
    "<br>\n",
    "`language_code` = language of the book written in.\n",
    "<br>\n",
    "`num_pages` = Number of pages in the book.\n",
    "<br>\n",
    "`ratings_count` = Total number of users who has given ratings to the book.\n",
    "<br>\n",
    "`text_reviews_count` = Total number of user who has given review in text form.\n",
    "<br>\n",
    "`publication_date` = Date of publication of the book.\n",
    "<br>\n",
    "`publisher` = Name of the publisher.\n",
    "<br>\n",
    "<br>\n",
    "Number of observations = 11127\n",
    "<br>\n",
    "number of columns = 12\n",
    "\n",
    "# [EDA](#EDA)\n",
    "\n",
    "## Questions that are answered in this Analysis :-\n",
    "\n",
    "### [Univariate](#Univariate)\n",
    "* [Average book rating.](#Average-book-rating.)\n",
    "* [Average number of pages.](#Average-number-of-pages.)\n",
    "* [Highest and Lowest Rated books.](#Highest-and-Lowest-Rated-books.)\n",
    "* [Average customer satisfaction.](#Average-customer-satisfaction.)\n",
    "* [most number book published by an author.](#Top-10)\n",
    "* [Book with highest number of pages.](#highest-pages)\n",
    "* [Book with most Text and Non-text Reviews Count.](#highest-reviews-count)\n",
    "* [Oldest Published book.](#Oldest)\n",
    "* [Newest Published book.](#Newest)\n",
    "* [Authors with highest average ratings.](#author)\n",
    "* [Most common language of books.](#Lang)\n",
    "* [Most common Publisher.](#pub)\n",
    "* [In which year most books were published?](#year)\n",
    "\n",
    "### [Bivariate](#Bivariate)\n",
    "* [Does Number of pages affects the average ratings of the books?](#pages)\n",
    "* [Better rating tends to more text review count?](#text)\n",
    "* [As the time goes the average rating of the books increases?](#time)"
   ]
  },
  {
   "cell_type": "markdown",
   "metadata": {},
   "source": [
    "## Overview"
   ]
  },
  {
   "cell_type": "code",
   "execution_count": 333,
   "metadata": {},
   "outputs": [],
   "source": [
    "import pandas as pd\n",
    "import numpy as np\n",
    "import matplotlib.pyplot as plt\n",
    "import seaborn as sns\n",
    "from scipy.stats import pearsonr\n",
    "from sklearn.preprocessing import StandardScaler"
   ]
  },
  {
   "cell_type": "code",
   "execution_count": 334,
   "metadata": {},
   "outputs": [
    {
     "data": {
      "text/html": [
       "<div>\n",
       "<style scoped>\n",
       "    .dataframe tbody tr th:only-of-type {\n",
       "        vertical-align: middle;\n",
       "    }\n",
       "\n",
       "    .dataframe tbody tr th {\n",
       "        vertical-align: top;\n",
       "    }\n",
       "\n",
       "    .dataframe thead th {\n",
       "        text-align: right;\n",
       "    }\n",
       "</style>\n",
       "<table border=\"1\" class=\"dataframe\">\n",
       "  <thead>\n",
       "    <tr style=\"text-align: right;\">\n",
       "      <th></th>\n",
       "      <th>bookID</th>\n",
       "      <th>title</th>\n",
       "      <th>authors</th>\n",
       "      <th>average_rating</th>\n",
       "      <th>isbn</th>\n",
       "      <th>isbn13</th>\n",
       "      <th>language_code</th>\n",
       "      <th>num_pages</th>\n",
       "      <th>ratings_count</th>\n",
       "      <th>text_reviews_count</th>\n",
       "      <th>publication_date</th>\n",
       "      <th>publisher</th>\n",
       "    </tr>\n",
       "  </thead>\n",
       "  <tbody>\n",
       "    <tr>\n",
       "      <th>0</th>\n",
       "      <td>1</td>\n",
       "      <td>Harry Potter and the Half-Blood Prince (Harry ...</td>\n",
       "      <td>J.K. Rowling/Mary GrandPré</td>\n",
       "      <td>4.57</td>\n",
       "      <td>439785960</td>\n",
       "      <td>9.780440e+12</td>\n",
       "      <td>eng</td>\n",
       "      <td>652</td>\n",
       "      <td>2095690</td>\n",
       "      <td>27591</td>\n",
       "      <td>9/16/2006</td>\n",
       "      <td>Scholastic Inc.</td>\n",
       "    </tr>\n",
       "    <tr>\n",
       "      <th>1</th>\n",
       "      <td>2</td>\n",
       "      <td>Harry Potter and the Order of the Phoenix (Har...</td>\n",
       "      <td>J.K. Rowling/Mary GrandPré</td>\n",
       "      <td>4.49</td>\n",
       "      <td>439358078</td>\n",
       "      <td>9.780440e+12</td>\n",
       "      <td>eng</td>\n",
       "      <td>870</td>\n",
       "      <td>2153167</td>\n",
       "      <td>29221</td>\n",
       "      <td>9/1/2004</td>\n",
       "      <td>Scholastic Inc.</td>\n",
       "    </tr>\n",
       "    <tr>\n",
       "      <th>2</th>\n",
       "      <td>4</td>\n",
       "      <td>Harry Potter and the Chamber of Secrets (Harry...</td>\n",
       "      <td>J.K. Rowling</td>\n",
       "      <td>4.42</td>\n",
       "      <td>439554896</td>\n",
       "      <td>9.780440e+12</td>\n",
       "      <td>eng</td>\n",
       "      <td>352</td>\n",
       "      <td>6333</td>\n",
       "      <td>244</td>\n",
       "      <td>11/1/2003</td>\n",
       "      <td>Scholastic</td>\n",
       "    </tr>\n",
       "    <tr>\n",
       "      <th>3</th>\n",
       "      <td>5</td>\n",
       "      <td>Harry Potter and the Prisoner of Azkaban (Harr...</td>\n",
       "      <td>J.K. Rowling/Mary GrandPré</td>\n",
       "      <td>4.56</td>\n",
       "      <td>043965548X</td>\n",
       "      <td>9.780440e+12</td>\n",
       "      <td>eng</td>\n",
       "      <td>435</td>\n",
       "      <td>2339585</td>\n",
       "      <td>36325</td>\n",
       "      <td>5/1/2004</td>\n",
       "      <td>Scholastic Inc.</td>\n",
       "    </tr>\n",
       "    <tr>\n",
       "      <th>4</th>\n",
       "      <td>8</td>\n",
       "      <td>Harry Potter Boxed Set  Books 1-5 (Harry Potte...</td>\n",
       "      <td>J.K. Rowling/Mary GrandPré</td>\n",
       "      <td>4.78</td>\n",
       "      <td>439682584</td>\n",
       "      <td>9.780440e+12</td>\n",
       "      <td>eng</td>\n",
       "      <td>2690</td>\n",
       "      <td>41428</td>\n",
       "      <td>164</td>\n",
       "      <td>9/13/2004</td>\n",
       "      <td>Scholastic</td>\n",
       "    </tr>\n",
       "  </tbody>\n",
       "</table>\n",
       "</div>"
      ],
      "text/plain": [
       "   bookID                                              title  \\\n",
       "0       1  Harry Potter and the Half-Blood Prince (Harry ...   \n",
       "1       2  Harry Potter and the Order of the Phoenix (Har...   \n",
       "2       4  Harry Potter and the Chamber of Secrets (Harry...   \n",
       "3       5  Harry Potter and the Prisoner of Azkaban (Harr...   \n",
       "4       8  Harry Potter Boxed Set  Books 1-5 (Harry Potte...   \n",
       "\n",
       "                      authors  average_rating        isbn        isbn13  \\\n",
       "0  J.K. Rowling/Mary GrandPré            4.57   439785960  9.780440e+12   \n",
       "1  J.K. Rowling/Mary GrandPré            4.49   439358078  9.780440e+12   \n",
       "2                J.K. Rowling            4.42   439554896  9.780440e+12   \n",
       "3  J.K. Rowling/Mary GrandPré            4.56  043965548X  9.780440e+12   \n",
       "4  J.K. Rowling/Mary GrandPré            4.78   439682584  9.780440e+12   \n",
       "\n",
       "  language_code    num_pages  ratings_count  text_reviews_count  \\\n",
       "0           eng          652        2095690               27591   \n",
       "1           eng          870        2153167               29221   \n",
       "2           eng          352           6333                 244   \n",
       "3           eng          435        2339585               36325   \n",
       "4           eng         2690          41428                 164   \n",
       "\n",
       "  publication_date        publisher  \n",
       "0        9/16/2006  Scholastic Inc.  \n",
       "1         9/1/2004  Scholastic Inc.  \n",
       "2        11/1/2003       Scholastic  \n",
       "3         5/1/2004  Scholastic Inc.  \n",
       "4        9/13/2004       Scholastic  "
      ]
     },
     "execution_count": 334,
     "metadata": {},
     "output_type": "execute_result"
    }
   ],
   "source": [
    "books = pd.read_csv('books.csv')\n",
    "books.head()"
   ]
  },
  {
   "cell_type": "code",
   "execution_count": 335,
   "metadata": {},
   "outputs": [
    {
     "name": "stdout",
     "output_type": "stream",
     "text": [
      "bookID                  int64\n",
      "title                  object\n",
      "authors                object\n",
      "average_rating        float64\n",
      "isbn                   object\n",
      "isbn13                float64\n",
      "language_code          object\n",
      "  num_pages             int64\n",
      "ratings_count           int64\n",
      "text_reviews_count      int64\n",
      "publication_date       object\n",
      "publisher              object\n",
      "dtype: object\n"
     ]
    },
    {
     "data": {
      "text/plain": [
       "(11127, 12)"
      ]
     },
     "execution_count": 335,
     "metadata": {},
     "output_type": "execute_result"
    }
   ],
   "source": [
    "print(books.dtypes)\n",
    "books.shape"
   ]
  },
  {
   "cell_type": "code",
   "execution_count": 336,
   "metadata": {},
   "outputs": [],
   "source": [
    "#dropping isbn13 column\n",
    "books.drop('isbn13',axis=1, inplace= True)"
   ]
  },
  {
   "cell_type": "code",
   "execution_count": 337,
   "metadata": {},
   "outputs": [],
   "source": [
    "#fixing numpages column name\n",
    "books.rename(columns={'  num_pages':'num_pages'}, inplace=True)"
   ]
  },
  {
   "cell_type": "code",
   "execution_count": 338,
   "metadata": {},
   "outputs": [
    {
     "data": {
      "text/plain": [
       "bookID                0\n",
       "title                 0\n",
       "authors               0\n",
       "average_rating        0\n",
       "isbn                  0\n",
       "language_code         0\n",
       "num_pages             0\n",
       "ratings_count         0\n",
       "text_reviews_count    0\n",
       "publication_date      0\n",
       "publisher             0\n",
       "dtype: int64"
      ]
     },
     "execution_count": 338,
     "metadata": {},
     "output_type": "execute_result"
    }
   ],
   "source": [
    "books.isna().sum()"
   ]
  },
  {
   "cell_type": "markdown",
   "metadata": {},
   "source": [
    "# Data Preprocessing"
   ]
  },
  {
   "cell_type": "markdown",
   "metadata": {},
   "source": [
    "## Publication date\n",
    "- change data type of publication date to 'datetime'"
   ]
  },
  {
   "cell_type": "code",
   "execution_count": 339,
   "metadata": {},
   "outputs": [
    {
     "data": {
      "text/plain": [
       "bookID                         int64\n",
       "title                         object\n",
       "authors                       object\n",
       "average_rating               float64\n",
       "isbn                          object\n",
       "language_code                 object\n",
       "num_pages                      int64\n",
       "ratings_count                  int64\n",
       "text_reviews_count             int64\n",
       "publication_date      datetime64[ns]\n",
       "publisher                     object\n",
       "dtype: object"
      ]
     },
     "execution_count": 339,
     "metadata": {},
     "output_type": "execute_result"
    }
   ],
   "source": [
    "#changin publication date to datetime datatype\n",
    "books['publication_date'] = pd.to_datetime(books['publication_date'],format= '%m/%d/%Y',errors='coerce')\n",
    "books.dtypes\n"
   ]
  },
  {
   "cell_type": "code",
   "execution_count": 340,
   "metadata": {},
   "outputs": [
    {
     "name": "stdout",
     "output_type": "stream",
     "text": [
      "bookID                0\n",
      "title                 0\n",
      "authors               0\n",
      "average_rating        0\n",
      "isbn                  0\n",
      "language_code         0\n",
      "num_pages             0\n",
      "ratings_count         0\n",
      "text_reviews_count    0\n",
      "publication_date      2\n",
      "publisher             0\n",
      "dtype: int64\n"
     ]
    }
   ],
   "source": [
    "print(books.isna().sum())"
   ]
  },
  {
   "cell_type": "code",
   "execution_count": 341,
   "metadata": {},
   "outputs": [
    {
     "name": "stdout",
     "output_type": "stream",
     "text": [
      "bookID                0\n",
      "title                 0\n",
      "authors               0\n",
      "average_rating        0\n",
      "isbn                  0\n",
      "language_code         0\n",
      "num_pages             0\n",
      "ratings_count         0\n",
      "text_reviews_count    0\n",
      "publication_date      0\n",
      "publisher             0\n",
      "dtype: int64\n"
     ]
    }
   ],
   "source": [
    "#filling nan values to mode value.\n",
    "\n",
    "# print(books.publication_date.mode())\n",
    "books['publication_date']= books.publication_date.fillna(value = '2005-10-01')\n",
    "print(books.isna().sum())"
   ]
  },
  {
   "cell_type": "markdown",
   "metadata": {},
   "source": [
    "## Average Rating\n",
    "- creating Category column for average rating."
   ]
  },
  {
   "cell_type": "code",
   "execution_count": 342,
   "metadata": {},
   "outputs": [
    {
     "name": "stdout",
     "output_type": "stream",
     "text": [
      "0.0\n",
      "5.0\n"
     ]
    }
   ],
   "source": [
    "print(books.average_rating.min())\n",
    "print(books.average_rating.max())\n"
   ]
  },
  {
   "cell_type": "code",
   "execution_count": 343,
   "metadata": {},
   "outputs": [
    {
     "data": {
      "text/html": [
       "<div>\n",
       "<style scoped>\n",
       "    .dataframe tbody tr th:only-of-type {\n",
       "        vertical-align: middle;\n",
       "    }\n",
       "\n",
       "    .dataframe tbody tr th {\n",
       "        vertical-align: top;\n",
       "    }\n",
       "\n",
       "    .dataframe thead th {\n",
       "        text-align: right;\n",
       "    }\n",
       "</style>\n",
       "<table border=\"1\" class=\"dataframe\">\n",
       "  <thead>\n",
       "    <tr style=\"text-align: right;\">\n",
       "      <th></th>\n",
       "      <th>bookID</th>\n",
       "      <th>title</th>\n",
       "      <th>authors</th>\n",
       "      <th>average_rating</th>\n",
       "      <th>isbn</th>\n",
       "      <th>language_code</th>\n",
       "      <th>num_pages</th>\n",
       "      <th>ratings_count</th>\n",
       "      <th>text_reviews_count</th>\n",
       "      <th>publication_date</th>\n",
       "      <th>publisher</th>\n",
       "      <th>cust_satisfaction</th>\n",
       "    </tr>\n",
       "  </thead>\n",
       "  <tbody>\n",
       "    <tr>\n",
       "      <th>0</th>\n",
       "      <td>1</td>\n",
       "      <td>Harry Potter and the Half-Blood Prince (Harry ...</td>\n",
       "      <td>J.K. Rowling/Mary GrandPré</td>\n",
       "      <td>4.57</td>\n",
       "      <td>439785960</td>\n",
       "      <td>eng</td>\n",
       "      <td>652</td>\n",
       "      <td>2095690</td>\n",
       "      <td>27591</td>\n",
       "      <td>2006-09-16</td>\n",
       "      <td>Scholastic Inc.</td>\n",
       "      <td>it was amazing</td>\n",
       "    </tr>\n",
       "    <tr>\n",
       "      <th>1</th>\n",
       "      <td>2</td>\n",
       "      <td>Harry Potter and the Order of the Phoenix (Har...</td>\n",
       "      <td>J.K. Rowling/Mary GrandPré</td>\n",
       "      <td>4.49</td>\n",
       "      <td>439358078</td>\n",
       "      <td>eng</td>\n",
       "      <td>870</td>\n",
       "      <td>2153167</td>\n",
       "      <td>29221</td>\n",
       "      <td>2004-09-01</td>\n",
       "      <td>Scholastic Inc.</td>\n",
       "      <td>it was amazing</td>\n",
       "    </tr>\n",
       "    <tr>\n",
       "      <th>2</th>\n",
       "      <td>4</td>\n",
       "      <td>Harry Potter and the Chamber of Secrets (Harry...</td>\n",
       "      <td>J.K. Rowling</td>\n",
       "      <td>4.42</td>\n",
       "      <td>439554896</td>\n",
       "      <td>eng</td>\n",
       "      <td>352</td>\n",
       "      <td>6333</td>\n",
       "      <td>244</td>\n",
       "      <td>2003-11-01</td>\n",
       "      <td>Scholastic</td>\n",
       "      <td>it was amazing</td>\n",
       "    </tr>\n",
       "    <tr>\n",
       "      <th>3</th>\n",
       "      <td>5</td>\n",
       "      <td>Harry Potter and the Prisoner of Azkaban (Harr...</td>\n",
       "      <td>J.K. Rowling/Mary GrandPré</td>\n",
       "      <td>4.56</td>\n",
       "      <td>043965548X</td>\n",
       "      <td>eng</td>\n",
       "      <td>435</td>\n",
       "      <td>2339585</td>\n",
       "      <td>36325</td>\n",
       "      <td>2004-05-01</td>\n",
       "      <td>Scholastic Inc.</td>\n",
       "      <td>it was amazing</td>\n",
       "    </tr>\n",
       "    <tr>\n",
       "      <th>4</th>\n",
       "      <td>8</td>\n",
       "      <td>Harry Potter Boxed Set  Books 1-5 (Harry Potte...</td>\n",
       "      <td>J.K. Rowling/Mary GrandPré</td>\n",
       "      <td>4.78</td>\n",
       "      <td>439682584</td>\n",
       "      <td>eng</td>\n",
       "      <td>2690</td>\n",
       "      <td>41428</td>\n",
       "      <td>164</td>\n",
       "      <td>2004-09-13</td>\n",
       "      <td>Scholastic</td>\n",
       "      <td>it was amazing</td>\n",
       "    </tr>\n",
       "  </tbody>\n",
       "</table>\n",
       "</div>"
      ],
      "text/plain": [
       "   bookID                                              title  \\\n",
       "0       1  Harry Potter and the Half-Blood Prince (Harry ...   \n",
       "1       2  Harry Potter and the Order of the Phoenix (Har...   \n",
       "2       4  Harry Potter and the Chamber of Secrets (Harry...   \n",
       "3       5  Harry Potter and the Prisoner of Azkaban (Harr...   \n",
       "4       8  Harry Potter Boxed Set  Books 1-5 (Harry Potte...   \n",
       "\n",
       "                      authors  average_rating        isbn language_code  \\\n",
       "0  J.K. Rowling/Mary GrandPré            4.57   439785960           eng   \n",
       "1  J.K. Rowling/Mary GrandPré            4.49   439358078           eng   \n",
       "2                J.K. Rowling            4.42   439554896           eng   \n",
       "3  J.K. Rowling/Mary GrandPré            4.56  043965548X           eng   \n",
       "4  J.K. Rowling/Mary GrandPré            4.78   439682584           eng   \n",
       "\n",
       "   num_pages  ratings_count  text_reviews_count publication_date  \\\n",
       "0        652        2095690               27591       2006-09-16   \n",
       "1        870        2153167               29221       2004-09-01   \n",
       "2        352           6333                 244       2003-11-01   \n",
       "3        435        2339585               36325       2004-05-01   \n",
       "4       2690          41428                 164       2004-09-13   \n",
       "\n",
       "         publisher cust_satisfaction  \n",
       "0  Scholastic Inc.    it was amazing  \n",
       "1  Scholastic Inc.    it was amazing  \n",
       "2       Scholastic    it was amazing  \n",
       "3  Scholastic Inc.    it was amazing  \n",
       "4       Scholastic    it was amazing  "
      ]
     },
     "execution_count": 343,
     "metadata": {},
     "output_type": "execute_result"
    }
   ],
   "source": [
    "bins = [0, 1, 2, 3, 4, 5]\n",
    "bins_labes = ['didn\\'t like it', 'it was OK', 'liked it', 'Really liked it', 'it was amazing']\n",
    "\n",
    "books['cust_satisfaction'] = pd.cut(books['average_rating'], bins, labels= bins_labes)\n",
    "books.head()"
   ]
  },
  {
   "cell_type": "code",
   "execution_count": 344,
   "metadata": {},
   "outputs": [
    {
     "data": {
      "text/plain": [
       "bookID                         int64\n",
       "title                         object\n",
       "authors                       object\n",
       "average_rating               float64\n",
       "isbn                          object\n",
       "language_code                 object\n",
       "num_pages                      int64\n",
       "ratings_count                  int64\n",
       "text_reviews_count             int64\n",
       "publication_date      datetime64[ns]\n",
       "publisher                     object\n",
       "cust_satisfaction           category\n",
       "dtype: object"
      ]
     },
     "execution_count": 344,
     "metadata": {},
     "output_type": "execute_result"
    }
   ],
   "source": [
    "order = ['didn\\'t like it', 'it was OK', 'liked it', 'Really liked it', 'it was amazing']\n",
    "books['cust_satisfaction'] = pd.Categorical(books['cust_satisfaction'], order, ordered= True)\n",
    "books.dtypes"
   ]
  },
  {
   "cell_type": "code",
   "execution_count": 345,
   "metadata": {},
   "outputs": [
    {
     "data": {
      "text/html": [
       "<div>\n",
       "<style scoped>\n",
       "    .dataframe tbody tr th:only-of-type {\n",
       "        vertical-align: middle;\n",
       "    }\n",
       "\n",
       "    .dataframe tbody tr th {\n",
       "        vertical-align: top;\n",
       "    }\n",
       "\n",
       "    .dataframe thead th {\n",
       "        text-align: right;\n",
       "    }\n",
       "</style>\n",
       "<table border=\"1\" class=\"dataframe\">\n",
       "  <thead>\n",
       "    <tr style=\"text-align: right;\">\n",
       "      <th></th>\n",
       "      <th>bookID</th>\n",
       "      <th>title</th>\n",
       "      <th>authors</th>\n",
       "      <th>average_rating</th>\n",
       "      <th>cust_satisfaction</th>\n",
       "      <th>isbn</th>\n",
       "      <th>language_code</th>\n",
       "      <th>num_pages</th>\n",
       "      <th>ratings_count</th>\n",
       "      <th>text_reviews_count</th>\n",
       "      <th>publication_date</th>\n",
       "      <th>publisher</th>\n",
       "    </tr>\n",
       "  </thead>\n",
       "  <tbody>\n",
       "    <tr>\n",
       "      <th>0</th>\n",
       "      <td>1</td>\n",
       "      <td>Harry Potter and the Half-Blood Prince (Harry ...</td>\n",
       "      <td>J.K. Rowling/Mary GrandPré</td>\n",
       "      <td>4.57</td>\n",
       "      <td>it was amazing</td>\n",
       "      <td>439785960</td>\n",
       "      <td>eng</td>\n",
       "      <td>652</td>\n",
       "      <td>2095690</td>\n",
       "      <td>27591</td>\n",
       "      <td>2006-09-16</td>\n",
       "      <td>Scholastic Inc.</td>\n",
       "    </tr>\n",
       "    <tr>\n",
       "      <th>1</th>\n",
       "      <td>2</td>\n",
       "      <td>Harry Potter and the Order of the Phoenix (Har...</td>\n",
       "      <td>J.K. Rowling/Mary GrandPré</td>\n",
       "      <td>4.49</td>\n",
       "      <td>it was amazing</td>\n",
       "      <td>439358078</td>\n",
       "      <td>eng</td>\n",
       "      <td>870</td>\n",
       "      <td>2153167</td>\n",
       "      <td>29221</td>\n",
       "      <td>2004-09-01</td>\n",
       "      <td>Scholastic Inc.</td>\n",
       "    </tr>\n",
       "    <tr>\n",
       "      <th>2</th>\n",
       "      <td>4</td>\n",
       "      <td>Harry Potter and the Chamber of Secrets (Harry...</td>\n",
       "      <td>J.K. Rowling</td>\n",
       "      <td>4.42</td>\n",
       "      <td>it was amazing</td>\n",
       "      <td>439554896</td>\n",
       "      <td>eng</td>\n",
       "      <td>352</td>\n",
       "      <td>6333</td>\n",
       "      <td>244</td>\n",
       "      <td>2003-11-01</td>\n",
       "      <td>Scholastic</td>\n",
       "    </tr>\n",
       "    <tr>\n",
       "      <th>3</th>\n",
       "      <td>5</td>\n",
       "      <td>Harry Potter and the Prisoner of Azkaban (Harr...</td>\n",
       "      <td>J.K. Rowling/Mary GrandPré</td>\n",
       "      <td>4.56</td>\n",
       "      <td>it was amazing</td>\n",
       "      <td>043965548X</td>\n",
       "      <td>eng</td>\n",
       "      <td>435</td>\n",
       "      <td>2339585</td>\n",
       "      <td>36325</td>\n",
       "      <td>2004-05-01</td>\n",
       "      <td>Scholastic Inc.</td>\n",
       "    </tr>\n",
       "    <tr>\n",
       "      <th>4</th>\n",
       "      <td>8</td>\n",
       "      <td>Harry Potter Boxed Set  Books 1-5 (Harry Potte...</td>\n",
       "      <td>J.K. Rowling/Mary GrandPré</td>\n",
       "      <td>4.78</td>\n",
       "      <td>it was amazing</td>\n",
       "      <td>439682584</td>\n",
       "      <td>eng</td>\n",
       "      <td>2690</td>\n",
       "      <td>41428</td>\n",
       "      <td>164</td>\n",
       "      <td>2004-09-13</td>\n",
       "      <td>Scholastic</td>\n",
       "    </tr>\n",
       "  </tbody>\n",
       "</table>\n",
       "</div>"
      ],
      "text/plain": [
       "   bookID                                              title  \\\n",
       "0       1  Harry Potter and the Half-Blood Prince (Harry ...   \n",
       "1       2  Harry Potter and the Order of the Phoenix (Har...   \n",
       "2       4  Harry Potter and the Chamber of Secrets (Harry...   \n",
       "3       5  Harry Potter and the Prisoner of Azkaban (Harr...   \n",
       "4       8  Harry Potter Boxed Set  Books 1-5 (Harry Potte...   \n",
       "\n",
       "                      authors  average_rating cust_satisfaction        isbn  \\\n",
       "0  J.K. Rowling/Mary GrandPré            4.57    it was amazing   439785960   \n",
       "1  J.K. Rowling/Mary GrandPré            4.49    it was amazing   439358078   \n",
       "2                J.K. Rowling            4.42    it was amazing   439554896   \n",
       "3  J.K. Rowling/Mary GrandPré            4.56    it was amazing  043965548X   \n",
       "4  J.K. Rowling/Mary GrandPré            4.78    it was amazing   439682584   \n",
       "\n",
       "  language_code  num_pages  ratings_count  text_reviews_count  \\\n",
       "0           eng        652        2095690               27591   \n",
       "1           eng        870        2153167               29221   \n",
       "2           eng        352           6333                 244   \n",
       "3           eng        435        2339585               36325   \n",
       "4           eng       2690          41428                 164   \n",
       "\n",
       "  publication_date        publisher  \n",
       "0       2006-09-16  Scholastic Inc.  \n",
       "1       2004-09-01  Scholastic Inc.  \n",
       "2       2003-11-01       Scholastic  \n",
       "3       2004-05-01  Scholastic Inc.  \n",
       "4       2004-09-13       Scholastic  "
      ]
     },
     "execution_count": 345,
     "metadata": {},
     "output_type": "execute_result"
    }
   ],
   "source": [
    "#reordering columns \n",
    "\n",
    "books = books[['bookID', 'title', 'authors', 'average_rating', 'cust_satisfaction', 'isbn', 'language_code', 'num_pages', 'ratings_count', 'text_reviews_count', 'publication_date', 'publisher']]\n",
    "books.head()"
   ]
  },
  {
   "cell_type": "markdown",
   "metadata": {},
   "source": [
    "# EDA<a class=\"anchor\" id=\"EDA\"></a>"
   ]
  },
  {
   "cell_type": "markdown",
   "metadata": {},
   "source": [
    "## Univariate<a class=\"anchor\" id=\"Univariate\"></a>"
   ]
  },
  {
   "cell_type": "markdown",
   "metadata": {},
   "source": [
    "- Average book rating.<a class=\"anchor\" id=\"Average-book-rating.\"></a>\n",
    "- Average number of pages.<a class=\"anchor\" id=\"Average-number-of-pages.\"></a>"
   ]
  },
  {
   "cell_type": "code",
   "execution_count": 346,
   "metadata": {},
   "outputs": [
    {
     "name": "stdout",
     "output_type": "stream",
     "text": [
      "average book rating is 3.9\n",
      "average number of pages is 336\n",
      "Average rating is 3.9, therefore the most common customer satisafaction would be 'Really liked it'\n"
     ]
    }
   ],
   "source": [
    "avg_rating = books.average_rating.mean()\n",
    "avg_num_page = books.num_pages.mean()\n",
    "print('average book rating is ' + str(round(avg_rating, ndigits= 1)))\n",
    "print('average number of pages is '+ str(round(avg_num_page)))\n",
    "print('Average rating is 3.9, therefore the most common customer satisafaction would be \\'Really liked it\\'')\n"
   ]
  },
  {
   "cell_type": "markdown",
   "metadata": {},
   "source": [
    "- Highest and Lowest Rated books.<a class=\"anchor\" id=\"Highest-and-Lowest-Rated-books.\"></a>"
   ]
  },
  {
   "cell_type": "code",
   "execution_count": 347,
   "metadata": {},
   "outputs": [
    {
     "name": "stdout",
     "output_type": "stream",
     "text": [
      "                                                   title  average_rating\n",
      "624    Comoediae 1: Acharenses/Equites/Nubes/Vespae/P...             5.0\n",
      "786                    Willem de Kooning: Late Paintings             5.0\n",
      "9897   His Princess Devotional: A Royal Encounter Wit...             5.0\n",
      "9851   The American Campaign: U.S. Presidential Campa...             5.0\n",
      "9724       The Irish Anatomist: A Study of Flann O'Brien             5.0\n",
      "9328                  Tyrannosaurus Wrecks (Stanley  #1)             5.0\n",
      "9286   Oliver Wendell Holmes in Paris: Medicine  Theo...             5.0\n",
      "8547        Fanning the Flame: Bible  Cross  and Mission             5.0\n",
      "6778   Delwau Duon: Peintiadau Nicholas Evans = Symph...             5.0\n",
      "6250                         The New Big Book of America             5.0\n",
      "6187                           Taxation of Mineral Rents             5.0\n",
      "5650   Colossians and Philemon: A Critical and Exeget...             5.0\n",
      "5649                                 Winchester Shotguns             5.0\n",
      "5478   The Goon Show  Volume 11: He's Fallen in the W...             5.0\n",
      "5476   The Goon Show  Volume 4: My Knees Have Fallen ...             5.0\n",
      "5025   The Complete Theory Fun Factory: Music Theory ...             5.0\n",
      "4935   Bulgakov's the Master and Margarita: The Text ...             5.0\n",
      "4790   The Diamond Color Meditation: Color Pathway to...             5.0\n",
      "4126   Zone of the Enders: The 2nd Runner Official St...             5.0\n",
      "1243   Middlesex Borough (Images of America: New Jersey)             5.0\n",
      "855    Literature Circle Guide: Bridge to Terabithia:...             5.0\n",
      "10266         Bill Gates: Computer Legend (Famous Lives)             5.0\n",
      "There are 22 highest Rated books rating of 5.0\n"
     ]
    }
   ],
   "source": [
    "highest = books[books.average_rating == 5.0].sort_values('average_rating', ascending = False)\n",
    "print(highest[['title','average_rating']])\n",
    "cnt = highest.title.count()\n",
    "print('There are ' + str(cnt) + ' highest Rated books rating of 5.0')"
   ]
  },
  {
   "cell_type": "code",
   "execution_count": 348,
   "metadata": {},
   "outputs": [
    {
     "name": "stdout",
     "output_type": "stream",
     "text": [
      "                                                   title  average_rating\n",
      "265    Out to Eat London 2002 (Lonely Planet Out to Eat)             0.0\n",
      "10501  The Fantastic Vampire: Studies in the Children...             0.0\n",
      "10142                                      Day and Night             0.0\n",
      "9441   Classroom Interactions as Cross-Cultural Encou...             0.0\n",
      "9335       Random House Crossword Mega Omnibus  Volume 1             0.0\n",
      "8979   Brown's Star Atlas: Showing All The Bright Sta...             0.0\n",
      "7800                   Beckett Football Card Price Guide             0.0\n",
      "7637        Your Child and Jesus: A Family Activity Book             0.0\n",
      "7576                            The Berlin Phenomenology             0.0\n",
      "7402                    Sclerotherapy and vein treatment             0.0\n",
      "7147   Mythographi Graeci 1: Apollodori Bibliotheca  ...             0.0\n",
      "6880   I'll Be Home Before Midnight and I Won't Get P...             0.0\n",
      "6862                            The Road To War  1933 39             0.0\n",
      "6561                   American Writers  Supplement VIII             0.0\n",
      "6383          Laguna  I Love You: The Best of \"Our Town\"             0.0\n",
      "5325   Canopy: A Work for Voice and Light in Harvard ...             0.0\n",
      "4678   The Man and the Author: John Milton: Twentieth...             0.0\n",
      "4242                                 American Film Guide             0.0\n",
      "3493   Brodie's notes on Aldous Huxley's brave new world             0.0\n",
      "2758                 Venac sonetnih venaca; Puževa srma             0.0\n",
      "2533          Insights: Talks On The Nature Of Existence             0.0\n",
      "2532   How To Meditate: An Anthology Of Talks On Medi...             0.0\n",
      "987             Open City 6: The Only Woman He Ever Left             0.0\n",
      "375                       Juiced Official Strategy Guide             0.0\n",
      "10921  The Leadership Challenge: Skills for Taking Ch...             0.0\n",
      "11031  Anthony Thwaite: In Conversation With Peter Da...             0.0\n",
      "There are 26 Lowest Rated books rating of 0.0\n"
     ]
    }
   ],
   "source": [
    "lowest = books[books.average_rating == 0.0].sort_values('average_rating', ascending = True)\n",
    "print(lowest[['title','average_rating']])\n",
    "cnt2 = lowest.title.count()\n",
    "print('There are ' + str(cnt2) + ' Lowest Rated books rating of 0.0')"
   ]
  },
  {
   "cell_type": "markdown",
   "metadata": {},
   "source": [
    "- Average customer satisfaction.<a class=\"anchor\" id=\"Average-customer-satisfaction.\"></a>"
   ]
  },
  {
   "cell_type": "code",
   "execution_count": 349,
   "metadata": {},
   "outputs": [
    {
     "name": "stdout",
     "output_type": "stream",
     "text": [
      "Really liked it    6288\n",
      "it was amazing     4735\n",
      "liked it             69\n",
      "it was OK             7\n",
      "didn't like it        2\n",
      "Name: cust_satisfaction, dtype: int64\n"
     ]
    },
    {
     "data": {
      "image/png": "[encoded data removed]",
      "text/plain": [
       "<Figure size 1440x720 with 1 Axes>"
      ]
     },
     "metadata": {
      "needs_background": "light"
     },
     "output_type": "display_data"
    }
   ],
   "source": [
    "new = books.cust_satisfaction\n",
    "new2 = books.cust_satisfaction.value_counts(ascending= False)\n",
    "print(new2)\n",
    "\n",
    "plt.figure(figsize=(20,10))\n",
    "sns.barplot(x = new2.index, y = new2, order= new2.index)\n",
    "plt.show()"
   ]
  },
  {
   "cell_type": "markdown",
   "metadata": {},
   "source": [
    "- Most number book published by an author. (Top 10)<a class=\"anchor\" id=\"Top-10\"></a>"
   ]
  },
  {
   "cell_type": "code",
   "execution_count": 350,
   "metadata": {},
   "outputs": [
    {
     "name": "stdout",
     "output_type": "stream",
     "text": [
      "Stephen King                   40\n",
      "P.G. Wodehouse                 40\n",
      "Rumiko Takahashi               39\n",
      "Orson Scott Card               35\n",
      "Agatha Christie                33\n",
      "Piers Anthony                  30\n",
      "Sandra Brown                   29\n",
      "Mercedes Lackey                29\n",
      "Dick Francis                   28\n",
      "Margaret Weis/Tracy Hickman    23\n",
      "Name: authors, dtype: int64\n"
     ]
    }
   ],
   "source": [
    "auth = books.authors.value_counts().sort_values(ascending = False)[0:10]\n",
    "print(auth)"
   ]
  },
  {
   "cell_type": "code",
   "execution_count": 351,
   "metadata": {},
   "outputs": [
    {
     "data": {
      "image/png": "[encoded data removed]",
      "text/plain": [
       "<Figure size 432x288 with 1 Axes>"
      ]
     },
     "metadata": {
      "needs_background": "light"
     },
     "output_type": "display_data"
    }
   ],
   "source": [
    "sns.barplot(x=auth, y = auth.index)\n",
    "plt.xticks(rotation = 90)\n",
    "plt.ylabel('authors')\n",
    "plt.xlabel('number of books')\n",
    "plt.show()"
   ]
  },
  {
   "cell_type": "markdown",
   "metadata": {},
   "source": [
    "- Book with highest number of pages.<a class=\"anchor\" id=\"highest-pages\"></a>"
   ]
  },
  {
   "cell_type": "code",
   "execution_count": 352,
   "metadata": {},
   "outputs": [
    {
     "data": {
      "text/html": [
       "<div>\n",
       "<style scoped>\n",
       "    .dataframe tbody tr th:only-of-type {\n",
       "        vertical-align: middle;\n",
       "    }\n",
       "\n",
       "    .dataframe tbody tr th {\n",
       "        vertical-align: top;\n",
       "    }\n",
       "\n",
       "    .dataframe thead th {\n",
       "        text-align: right;\n",
       "    }\n",
       "</style>\n",
       "<table border=\"1\" class=\"dataframe\">\n",
       "  <thead>\n",
       "    <tr style=\"text-align: right;\">\n",
       "      <th></th>\n",
       "      <th>bookID</th>\n",
       "      <th>title</th>\n",
       "      <th>authors</th>\n",
       "      <th>average_rating</th>\n",
       "      <th>cust_satisfaction</th>\n",
       "      <th>isbn</th>\n",
       "      <th>language_code</th>\n",
       "      <th>num_pages</th>\n",
       "      <th>ratings_count</th>\n",
       "      <th>text_reviews_count</th>\n",
       "      <th>publication_date</th>\n",
       "      <th>publisher</th>\n",
       "    </tr>\n",
       "  </thead>\n",
       "  <tbody>\n",
       "    <tr>\n",
       "      <th>6500</th>\n",
       "      <td>24520</td>\n",
       "      <td>The Complete Aubrey/Maturin Novels (5 Volumes)</td>\n",
       "      <td>Patrick O'Brian</td>\n",
       "      <td>4.7</td>\n",
       "      <td>it was amazing</td>\n",
       "      <td>039306011X</td>\n",
       "      <td>eng</td>\n",
       "      <td>6576</td>\n",
       "      <td>1338</td>\n",
       "      <td>81</td>\n",
       "      <td>2004-10-17</td>\n",
       "      <td>W. W. Norton  Company</td>\n",
       "    </tr>\n",
       "  </tbody>\n",
       "</table>\n",
       "</div>"
      ],
      "text/plain": [
       "      bookID                                           title          authors  \\\n",
       "6500   24520  The Complete Aubrey/Maturin Novels (5 Volumes)  Patrick O'Brian   \n",
       "\n",
       "      average_rating cust_satisfaction        isbn language_code  num_pages  \\\n",
       "6500             4.7    it was amazing  039306011X           eng       6576   \n",
       "\n",
       "      ratings_count  text_reviews_count publication_date  \\\n",
       "6500           1338                  81       2004-10-17   \n",
       "\n",
       "                  publisher  \n",
       "6500  W. W. Norton  Company  "
      ]
     },
     "metadata": {},
     "output_type": "display_data"
    },
    {
     "name": "stdout",
     "output_type": "stream",
     "text": [
      "book named 'The Complete Aubrey/Maturin Novels (5 Volumes)' have highest number of pages with 6576.\n"
     ]
    }
   ],
   "source": [
    "display(books.sort_values('num_pages',ascending= False)[0:1])\n",
    "print('book named \\'The Complete Aubrey/Maturin Novels (5 Volumes)\\' have highest number of pages with 6576.')"
   ]
  },
  {
   "cell_type": "markdown",
   "metadata": {},
   "source": [
    "- Book with most Text and Non-text Reviews Count.<a class=\"anchor\" id=\"highest-reviews-count\"></a>"
   ]
  },
  {
   "cell_type": "code",
   "execution_count": 353,
   "metadata": {},
   "outputs": [
    {
     "data": {
      "text/html": [
       "<div>\n",
       "<style scoped>\n",
       "    .dataframe tbody tr th:only-of-type {\n",
       "        vertical-align: middle;\n",
       "    }\n",
       "\n",
       "    .dataframe tbody tr th {\n",
       "        vertical-align: top;\n",
       "    }\n",
       "\n",
       "    .dataframe thead th {\n",
       "        text-align: right;\n",
       "    }\n",
       "</style>\n",
       "<table border=\"1\" class=\"dataframe\">\n",
       "  <thead>\n",
       "    <tr style=\"text-align: right;\">\n",
       "      <th></th>\n",
       "      <th>bookID</th>\n",
       "      <th>title</th>\n",
       "      <th>authors</th>\n",
       "      <th>average_rating</th>\n",
       "      <th>cust_satisfaction</th>\n",
       "      <th>isbn</th>\n",
       "      <th>language_code</th>\n",
       "      <th>num_pages</th>\n",
       "      <th>ratings_count</th>\n",
       "      <th>text_reviews_count</th>\n",
       "      <th>publication_date</th>\n",
       "      <th>publisher</th>\n",
       "    </tr>\n",
       "  </thead>\n",
       "  <tbody>\n",
       "    <tr>\n",
       "      <th>10340</th>\n",
       "      <td>41865</td>\n",
       "      <td>Twilight (Twilight  #1)</td>\n",
       "      <td>Stephenie Meyer</td>\n",
       "      <td>3.59</td>\n",
       "      <td>Really liked it</td>\n",
       "      <td>316015849</td>\n",
       "      <td>eng</td>\n",
       "      <td>501</td>\n",
       "      <td>4597666</td>\n",
       "      <td>94265</td>\n",
       "      <td>2006-09-06</td>\n",
       "      <td>Little  Brown and Company</td>\n",
       "    </tr>\n",
       "  </tbody>\n",
       "</table>\n",
       "</div>"
      ],
      "text/plain": [
       "       bookID                    title          authors  average_rating  \\\n",
       "10340   41865  Twilight (Twilight  #1)  Stephenie Meyer            3.59   \n",
       "\n",
       "      cust_satisfaction       isbn language_code  num_pages  ratings_count  \\\n",
       "10340   Really liked it  316015849           eng        501        4597666   \n",
       "\n",
       "       text_reviews_count publication_date                  publisher  \n",
       "10340               94265       2006-09-06  Little  Brown and Company  "
      ]
     },
     "metadata": {},
     "output_type": "display_data"
    },
    {
     "data": {
      "text/html": [
       "<div>\n",
       "<style scoped>\n",
       "    .dataframe tbody tr th:only-of-type {\n",
       "        vertical-align: middle;\n",
       "    }\n",
       "\n",
       "    .dataframe tbody tr th {\n",
       "        vertical-align: top;\n",
       "    }\n",
       "\n",
       "    .dataframe thead th {\n",
       "        text-align: right;\n",
       "    }\n",
       "</style>\n",
       "<table border=\"1\" class=\"dataframe\">\n",
       "  <thead>\n",
       "    <tr style=\"text-align: right;\">\n",
       "      <th></th>\n",
       "      <th>bookID</th>\n",
       "      <th>title</th>\n",
       "      <th>authors</th>\n",
       "      <th>average_rating</th>\n",
       "      <th>cust_satisfaction</th>\n",
       "      <th>isbn</th>\n",
       "      <th>language_code</th>\n",
       "      <th>num_pages</th>\n",
       "      <th>ratings_count</th>\n",
       "      <th>text_reviews_count</th>\n",
       "      <th>publication_date</th>\n",
       "      <th>publisher</th>\n",
       "    </tr>\n",
       "  </thead>\n",
       "  <tbody>\n",
       "    <tr>\n",
       "      <th>10340</th>\n",
       "      <td>41865</td>\n",
       "      <td>Twilight (Twilight  #1)</td>\n",
       "      <td>Stephenie Meyer</td>\n",
       "      <td>3.59</td>\n",
       "      <td>Really liked it</td>\n",
       "      <td>316015849</td>\n",
       "      <td>eng</td>\n",
       "      <td>501</td>\n",
       "      <td>4597666</td>\n",
       "      <td>94265</td>\n",
       "      <td>2006-09-06</td>\n",
       "      <td>Little  Brown and Company</td>\n",
       "    </tr>\n",
       "  </tbody>\n",
       "</table>\n",
       "</div>"
      ],
      "text/plain": [
       "       bookID                    title          authors  average_rating  \\\n",
       "10340   41865  Twilight (Twilight  #1)  Stephenie Meyer            3.59   \n",
       "\n",
       "      cust_satisfaction       isbn language_code  num_pages  ratings_count  \\\n",
       "10340   Really liked it  316015849           eng        501        4597666   \n",
       "\n",
       "       text_reviews_count publication_date                  publisher  \n",
       "10340               94265       2006-09-06  Little  Brown and Company  "
      ]
     },
     "metadata": {},
     "output_type": "display_data"
    },
    {
     "name": "stdout",
     "output_type": "stream",
     "text": [
      "book named Twilight (Twilight #1) got the Highest number of both text and Non-text reviews count with 94265 and 4597666\n"
     ]
    }
   ],
   "source": [
    "display(books.sort_values('text_reviews_count', ascending= False)[0:1])\n",
    "display(books.sort_values('ratings_count', ascending= False)[0:1])\n",
    "print('book named Twilight (Twilight #1) got the Highest number of both text and Non-text reviews count with 94265 and 4597666')"
   ]
  },
  {
   "cell_type": "markdown",
   "metadata": {},
   "source": [
    "- Oldest Published book.<a class=\"anchor\" id=\"Oldest\"></a>"
   ]
  },
  {
   "cell_type": "code",
   "execution_count": 354,
   "metadata": {},
   "outputs": [
    {
     "data": {
      "text/html": [
       "<div>\n",
       "<style scoped>\n",
       "    .dataframe tbody tr th:only-of-type {\n",
       "        vertical-align: middle;\n",
       "    }\n",
       "\n",
       "    .dataframe tbody tr th {\n",
       "        vertical-align: top;\n",
       "    }\n",
       "\n",
       "    .dataframe thead th {\n",
       "        text-align: right;\n",
       "    }\n",
       "</style>\n",
       "<table border=\"1\" class=\"dataframe\">\n",
       "  <thead>\n",
       "    <tr style=\"text-align: right;\">\n",
       "      <th></th>\n",
       "      <th>bookID</th>\n",
       "      <th>title</th>\n",
       "      <th>authors</th>\n",
       "      <th>average_rating</th>\n",
       "      <th>cust_satisfaction</th>\n",
       "      <th>isbn</th>\n",
       "      <th>language_code</th>\n",
       "      <th>num_pages</th>\n",
       "      <th>ratings_count</th>\n",
       "      <th>text_reviews_count</th>\n",
       "      <th>publication_date</th>\n",
       "      <th>publisher</th>\n",
       "    </tr>\n",
       "  </thead>\n",
       "  <tbody>\n",
       "    <tr>\n",
       "      <th>9375</th>\n",
       "      <td>37134</td>\n",
       "      <td>Consider the Lilies</td>\n",
       "      <td>Iain Crichton Smith/Isobel Murray</td>\n",
       "      <td>3.88</td>\n",
       "      <td>Really liked it</td>\n",
       "      <td>753812932</td>\n",
       "      <td>eng</td>\n",
       "      <td>144</td>\n",
       "      <td>332</td>\n",
       "      <td>33</td>\n",
       "      <td>1900-01-01</td>\n",
       "      <td>Polygon</td>\n",
       "    </tr>\n",
       "  </tbody>\n",
       "</table>\n",
       "</div>"
      ],
      "text/plain": [
       "      bookID                title                            authors  \\\n",
       "9375   37134  Consider the Lilies  Iain Crichton Smith/Isobel Murray   \n",
       "\n",
       "      average_rating cust_satisfaction       isbn language_code  num_pages  \\\n",
       "9375            3.88   Really liked it  753812932           eng        144   \n",
       "\n",
       "      ratings_count  text_reviews_count publication_date publisher  \n",
       "9375            332                  33       1900-01-01   Polygon  "
      ]
     },
     "metadata": {},
     "output_type": "display_data"
    },
    {
     "name": "stdout",
     "output_type": "stream",
     "text": [
      "Book named 'Iain Crichton Smith/Isobel Murray' is the oldest publicised book, it was published in 1900-01-01 by the 'Plygon' Publisher\n"
     ]
    }
   ],
   "source": [
    "display(books.sort_values('publication_date', ascending= True)[0:1])\n",
    "print('Book named \\'Iain Crichton Smith/Isobel Murray\\' is the oldest publicised book, it was published in 1900-01-01 by the \\'Plygon\\' Publisher')"
   ]
  },
  {
   "cell_type": "markdown",
   "metadata": {},
   "source": [
    "- Newest Published book.<a class=\"anchor\" id=\"Newest\"></a>"
   ]
  },
  {
   "cell_type": "code",
   "execution_count": 355,
   "metadata": {},
   "outputs": [
    {
     "data": {
      "text/html": [
       "<div>\n",
       "<style scoped>\n",
       "    .dataframe tbody tr th:only-of-type {\n",
       "        vertical-align: middle;\n",
       "    }\n",
       "\n",
       "    .dataframe tbody tr th {\n",
       "        vertical-align: top;\n",
       "    }\n",
       "\n",
       "    .dataframe thead th {\n",
       "        text-align: right;\n",
       "    }\n",
       "</style>\n",
       "<table border=\"1\" class=\"dataframe\">\n",
       "  <thead>\n",
       "    <tr style=\"text-align: right;\">\n",
       "      <th></th>\n",
       "      <th>bookID</th>\n",
       "      <th>title</th>\n",
       "      <th>authors</th>\n",
       "      <th>average_rating</th>\n",
       "      <th>cust_satisfaction</th>\n",
       "      <th>isbn</th>\n",
       "      <th>language_code</th>\n",
       "      <th>num_pages</th>\n",
       "      <th>ratings_count</th>\n",
       "      <th>text_reviews_count</th>\n",
       "      <th>publication_date</th>\n",
       "      <th>publisher</th>\n",
       "    </tr>\n",
       "  </thead>\n",
       "  <tbody>\n",
       "    <tr>\n",
       "      <th>9668</th>\n",
       "      <td>38568</td>\n",
       "      <td>A Quick Bite (Argeneau #1)</td>\n",
       "      <td>Lynsay Sands</td>\n",
       "      <td>3.91</td>\n",
       "      <td>Really liked it</td>\n",
       "      <td>60773758</td>\n",
       "      <td>eng</td>\n",
       "      <td>360</td>\n",
       "      <td>35275</td>\n",
       "      <td>1370</td>\n",
       "      <td>2020-03-31</td>\n",
       "      <td>Avon</td>\n",
       "    </tr>\n",
       "  </tbody>\n",
       "</table>\n",
       "</div>"
      ],
      "text/plain": [
       "      bookID                       title       authors  average_rating  \\\n",
       "9668   38568  A Quick Bite (Argeneau #1)  Lynsay Sands            3.91   \n",
       "\n",
       "     cust_satisfaction      isbn language_code  num_pages  ratings_count  \\\n",
       "9668   Really liked it  60773758           eng        360          35275   \n",
       "\n",
       "      text_reviews_count publication_date publisher  \n",
       "9668                1370       2020-03-31      Avon  "
      ]
     },
     "metadata": {},
     "output_type": "display_data"
    },
    {
     "name": "stdout",
     "output_type": "stream",
     "text": [
      "Book named 'A Quick Bite (Argeneau #1)' is the Newest publicised book, it was published in 2020-03-31 by the 'Avon' Publisher\n"
     ]
    }
   ],
   "source": [
    "display(books.sort_values('publication_date', ascending= False)[0:1])\n",
    "print('Book named \\'A Quick Bite (Argeneau #1)\\' is the Newest publicised book, it was published in 2020-03-31 by the \\'Avon\\' Publisher')"
   ]
  },
  {
   "cell_type": "markdown",
   "metadata": {},
   "source": [
    "- Authors with highest average ratings.<a class=\"anchor\" id=\"author\"></a>"
   ]
  },
  {
   "cell_type": "code",
   "execution_count": 356,
   "metadata": {},
   "outputs": [
    {
     "name": "stdout",
     "output_type": "stream",
     "text": [
      "authors\n",
      "Aristophanes/F.W. Hall/W.M. Geldart                     5.00\n",
      "Sara Barton-Wood                                        5.00\n",
      "Keith Donohue                                           5.00\n",
      "Julie Sylvester/David Sylvester                         5.00\n",
      "John  Diamond                                           5.00\n",
      "R. McL. Wilson                                          5.00\n",
      "James E. Campbell                                       5.00\n",
      "Ian        Martin/Katie Elliott                         5.00\n",
      "Nicholas    Evans/Rhonda  Evans                         5.00\n",
      "Todd Davis/Marc Frey                                    5.00\n",
      "Elena N. Mahlow                                         5.00\n",
      "Middlesex Borough Heritage Committee                    5.00\n",
      "Ross Garnaut                                            5.00\n",
      "Dennis Adler/R.L. Wilson                                5.00\n",
      "William C. Dowling                                      5.00\n",
      "Laura Driscoll/Alisa Klayman-Grodsky/Eric     Weiner    5.00\n",
      "Sheri Rose Shepherd                                     5.00\n",
      "Chris    Green/Chris Wright/Paul Douglas Gardner        5.00\n",
      "Simon Cleveland                                         4.91\n",
      "Alice Wong/Lena Tabori                                  4.88\n",
      "Name: average_rating, dtype: float64\n",
      "There are 18 authors who got average rating on 5.0\n"
     ]
    }
   ],
   "source": [
    "auth_rate = books.groupby('authors').average_rating.mean()\n",
    "sorted = auth_rate.sort_values(ascending = False).head(20)\n",
    "print(sorted)\n",
    "print('There are 18 authors who got average rating on 5.0')"
   ]
  },
  {
   "cell_type": "markdown",
   "metadata": {},
   "source": [
    "- Most common language of books.<a class=\"anchor\" id=\"Lang\"></a>"
   ]
  },
  {
   "cell_type": "code",
   "execution_count": 357,
   "metadata": {},
   "outputs": [
    {
     "name": "stdout",
     "output_type": "stream",
     "text": [
      "eng      8911\n",
      "en-US    1409\n",
      "spa       218\n",
      "en-GB     214\n",
      "fre       144\n",
      "ger        99\n",
      "jpn        46\n",
      "mul        19\n",
      "zho        14\n",
      "grc        11\n",
      "por        10\n",
      "en-CA       7\n",
      "ita         5\n",
      "enm         3\n",
      "lat         3\n",
      "swe         2\n",
      "rus         2\n",
      "srp         1\n",
      "nl          1\n",
      "msa         1\n",
      "glg         1\n",
      "wel         1\n",
      "ara         1\n",
      "nor         1\n",
      "tur         1\n",
      "gla         1\n",
      "ale         1\n",
      "Name: language_code, dtype: int64\n"
     ]
    }
   ],
   "source": [
    "lang = books.language_code.value_counts()\n",
    "print(lang)"
   ]
  },
  {
   "cell_type": "code",
   "execution_count": 358,
   "metadata": {},
   "outputs": [
    {
     "name": "stdout",
     "output_type": "stream",
     "text": [
      "eng      0.800845\n",
      "en-US    0.126629\n",
      "spa      0.019592\n",
      "en-GB    0.019232\n",
      "fre      0.012941\n",
      "ger      0.008897\n",
      "jpn      0.004134\n",
      "mul      0.001708\n",
      "zho      0.001258\n",
      "grc      0.000989\n",
      "por      0.000899\n",
      "en-CA    0.000629\n",
      "ita      0.000449\n",
      "enm      0.000270\n",
      "lat      0.000270\n",
      "swe      0.000180\n",
      "rus      0.000180\n",
      "srp      0.000090\n",
      "nl       0.000090\n",
      "msa      0.000090\n",
      "glg      0.000090\n",
      "wel      0.000090\n",
      "ara      0.000090\n",
      "nor      0.000090\n",
      "tur      0.000090\n",
      "gla      0.000090\n",
      "ale      0.000090\n",
      "Name: language_code, dtype: float64\n",
      "80% of books written in english language, followed by en-Us takes 12% and spanish and french 0.01%\n"
     ]
    }
   ],
   "source": [
    "prop = lang/len(books)\n",
    "print(prop)\n",
    "print('80% of books written in english language, followed by en-Us takes 12% and spanish and french 0.01%')"
   ]
  },
  {
   "cell_type": "code",
   "execution_count": 359,
   "metadata": {},
   "outputs": [
    {
     "data": {
      "image/png": "[encoded data removed]",
      "text/plain": [
       "<Figure size 1440x720 with 1 Axes>"
      ]
     },
     "metadata": {
      "needs_background": "light"
     },
     "output_type": "display_data"
    }
   ],
   "source": [
    "plt.figure(figsize= (20, 10))\n",
    "sns.barplot(x = lang.index, y = lang)\n",
    "plt.show()"
   ]
  },
  {
   "cell_type": "markdown",
   "metadata": {},
   "source": [
    "- Most common Publisher.<a class=\"anchor\" id=\"pub\"></a>"
   ]
  },
  {
   "cell_type": "code",
   "execution_count": 360,
   "metadata": {},
   "outputs": [
    {
     "name": "stdout",
     "output_type": "stream",
     "text": [
      "Vintage                         318\n",
      "Penguin Books                   261\n",
      "Penguin Classics                184\n",
      "Mariner Books                   150\n",
      "Ballantine Books                144\n",
      "Harper Perennial                112\n",
      "HarperCollins                   112\n",
      "Pocket Books                    111\n",
      "Bantam                          110\n",
      "VIZ Media LLC                    88\n",
      "Berkley                          86\n",
      "Dover Publications               85\n",
      "Modern Library                   82\n",
      "Del Rey                          80\n",
      "Tor Books                        76\n",
      "Grand Central Publishing         76\n",
      "Oxford University Press  USA     75\n",
      "Oxford University Press          73\n",
      "Scribner                         73\n",
      "W. W. Norton  Company            68\n",
      "Name: publisher, dtype: int64\n",
      "'Vintage' is the most commong publisher, published 318 books, followed by 'Penguin Books' with 261 books published yet.\n"
     ]
    }
   ],
   "source": [
    "pub = books.publisher.value_counts().head(20)\n",
    "print(pub)\n",
    "print('\\'Vintage\\' is the most commong publisher, published 318 books, followed by \\'Penguin Books\\' with 261 books published yet.')"
   ]
  },
  {
   "cell_type": "code",
   "execution_count": 361,
   "metadata": {},
   "outputs": [
    {
     "data": {
      "image/png": "[encoded data removed]",
      "text/plain": [
       "<Figure size 1440x720 with 1 Axes>"
      ]
     },
     "metadata": {
      "needs_background": "light"
     },
     "output_type": "display_data"
    }
   ],
   "source": [
    "plt.figure(figsize= (20,10))\n",
    "sns.barplot(x = pub , y = pub.index)\n",
    "plt.show()\n"
   ]
  },
  {
   "cell_type": "markdown",
   "metadata": {},
   "source": [
    "- In which year most books were published?<a class=\"anchor\" id=\"year\"></a>"
   ]
  },
  {
   "cell_type": "code",
   "execution_count": 362,
   "metadata": {},
   "outputs": [
    {
     "name": "stdout",
     "output_type": "stream",
     "text": [
      "[2006 2004 2003 2005 2002 1996 2001 2000 1990 1993 1997 1991 2012 1994\n",
      " 1982 1986 1999 1987 1984 2007 1965 1998 1995 1964 1970 2011 1955 1988\n",
      " 1985 1989 1963 2008 2009 1976 1975 1980 1992 1973 2019 1954 2015 1919\n",
      " 1921 1923 1969 1968 1961 1953 1958 1983 1978 1929 1977 1979 1922 1981\n",
      " 2010 1950 1971 1960 1959 2013 2017 2016 1972 1947 1943 1974 1957 2014\n",
      " 2018 1952 1935 1956 1966 1925 1962 1949 1913 1928 1914 1948 1967 1900\n",
      " 2020 1931 1940]\n",
      "2006    1700\n",
      "2005    1262\n",
      "2004    1071\n",
      "2003     931\n",
      "2002     798\n",
      "2001     656\n",
      "2000     533\n",
      "2007     518\n",
      "1999     451\n",
      "1998     396\n",
      "1997     290\n",
      "1996     250\n",
      "1995     249\n",
      "1994     220\n",
      "1992     183\n",
      "1993     165\n",
      "1991     151\n",
      "1989     118\n",
      "1990     117\n",
      "1987      88\n",
      "Name: year, dtype: int64\n"
     ]
    }
   ],
   "source": [
    "books['year'] = books['publication_date'].dt.year\n",
    "print(books.year.unique())\n",
    "yr = books.year.value_counts().head(20)\n",
    "print(yr)"
   ]
  },
  {
   "cell_type": "code",
   "execution_count": 363,
   "metadata": {},
   "outputs": [
    {
     "data": {
      "image/png": "[encoded data removed]",
      "text/plain": [
       "<Figure size 1440x720 with 1 Axes>"
      ]
     },
     "metadata": {
      "needs_background": "light"
     },
     "output_type": "display_data"
    },
    {
     "name": "stdout",
     "output_type": "stream",
     "text": [
      "1700 books published in the year 2006 which makes it the highest published year.\n"
     ]
    }
   ],
   "source": [
    "plt.figure(figsize= (20,10))\n",
    "sns.barplot(x = yr.index, y = yr)\n",
    "plt.show()\n",
    "print('1700 books published in the year 2006 which makes it the highest published year.')"
   ]
  },
  {
   "cell_type": "markdown",
   "metadata": {},
   "source": [
    "## Bivariate<a class=\"anchor\" id=\"Bivariate\"></a>"
   ]
  },
  {
   "cell_type": "markdown",
   "metadata": {},
   "source": [
    "- Does Number of pages affects the average ratings of the books?<a class=\"anchor\" id=\"pages\"></a>"
   ]
  },
  {
   "cell_type": "code",
   "execution_count": 364,
   "metadata": {},
   "outputs": [
    {
     "data": {
      "image/png": "[encoded data removed]",
      "text/plain": [
       "<Figure size 1440x720 with 1 Axes>"
      ]
     },
     "metadata": {
      "needs_background": "light"
     },
     "output_type": "display_data"
    },
    {
     "name": "stdout",
     "output_type": "stream",
     "text": [
      "There isn't any patterns in above scatter plot, we can probably guess that the variables are not associated.\n"
     ]
    }
   ],
   "source": [
    "#standardisation of two variables.\n",
    "\n",
    "data = books[['average_rating', 'num_pages']].to_numpy()\n",
    "scaler = StandardScaler()\n",
    "standard_data = scaler.fit_transform(data)\n",
    "\n",
    "plt.figure(figsize=(20,10))\n",
    "x = standard_data[:,0]\n",
    "y = standard_data[:,1]\n",
    "plt.scatter(x,y)\n",
    "plt.show()\n",
    "\n",
    "print('There isn\\'t any patterns in above scatter plot, we can probably guess that the variables are not associated.')"
   ]
  },
  {
   "cell_type": "code",
   "execution_count": 365,
   "metadata": {},
   "outputs": [
    {
     "name": "stdout",
     "output_type": "stream",
     "text": [
      "correlation of both variable is 0.15080946153494185 which is too close 0, by observing that we can assume there is no association between these two variables.\n"
     ]
    }
   ],
   "source": [
    "corr, p = pearsonr(books.average_rating, books.num_pages)\n",
    "\n",
    "print('correlation of both variable is ' + str(corr) + ' which is too close 0, by observing that we can assume there is no association between these two variables.')"
   ]
  },
  {
   "cell_type": "markdown",
   "metadata": {},
   "source": [
    "- Better rating tends to more text review count?<a class=\"anchor\" id=\"text\"></a>"
   ]
  },
  {
   "cell_type": "code",
   "execution_count": 366,
   "metadata": {},
   "outputs": [
    {
     "data": {
      "image/png": "[encoded data removed]",
      "text/plain": [
       "<Figure size 1440x720 with 1 Axes>"
      ]
     },
     "metadata": {
      "needs_background": "light"
     },
     "output_type": "display_data"
    },
    {
     "name": "stdout",
     "output_type": "stream",
     "text": [
      "By looking at the above scatter plot there so vissible pattern of any rlation so we can assume that there is no association among these two variables.\n"
     ]
    }
   ],
   "source": [
    "#standardisation of two variables.\n",
    "\n",
    "review = books[['average_rating', 'text_reviews_count']].to_numpy()\n",
    "scaler1 = StandardScaler()\n",
    "standard_data1 = scaler1.fit_transform(review)\n",
    "\n",
    "rating = standard_data1[:,0]\n",
    "text = standard_data1[:,1]\n",
    "\n",
    "plt.figure(figsize=(20,10))\n",
    "sns.scatterplot(x = rating, y = text)\n",
    "plt.show()\n",
    "\n",
    "print('By looking at the above scatter plot there so vissible pattern of any rlation so we can assume that there is no association among these two variables.')"
   ]
  },
  {
   "cell_type": "code",
   "execution_count": 367,
   "metadata": {},
   "outputs": [
    {
     "name": "stdout",
     "output_type": "stream",
     "text": [
      "0.03373431543028114\n",
      "The correlation of these two variables is 0.03373431543028114 which tends to almost 0, therefore we can conculde that there is no association between these two variables.\n",
      "Answer to the question is : No, better ratings does not gets more text reviews.\n"
     ]
    }
   ],
   "source": [
    "correlation ,p = pearsonr(books.average_rating, books.text_reviews_count)\n",
    "print(correlation)\n",
    "\n",
    "print('The correlation of these two variables is ' + str(correlation) + ' which tends to almost 0, therefore we can conculde that there is no association between these two variables.')\n",
    "print('Answer to the question is : No, better ratings does not gets more text reviews.')"
   ]
  },
  {
   "cell_type": "markdown",
   "metadata": {},
   "source": [
    "- As the time goes the average rating of the books increases?<a class=\"anchor\" id=\"time\"></a>"
   ]
  },
  {
   "cell_type": "code",
   "execution_count": 368,
   "metadata": {},
   "outputs": [
    {
     "data": {
      "image/png": "[encoded data removed]",
      "text/plain": [
       "<Figure size 1440x720 with 1 Axes>"
      ]
     },
     "metadata": {
      "needs_background": "light"
     },
     "output_type": "display_data"
    },
    {
     "name": "stdout",
     "output_type": "stream",
     "text": [
      "By the above line grave we an see that the average raing per year remains contant most of the years.\n",
      "Therefore, answer to the question is 'No' average rating of the book does not increases as the time goes.\n"
     ]
    }
   ],
   "source": [
    "time = books.groupby('year').average_rating.mean()\n",
    "\n",
    "plt.figure(figsize=(20,10))\n",
    "sns.lineplot(x = time.index, y = time)\n",
    "plt.show()\n",
    "\n",
    "print('By the above line grave we an see that the average raing per year remains contant most of the years.')\n",
    "print('Therefore, answer to the question is \\'No\\' average rating of the book does not increases as the time goes.')"
   ]
  }
 ],
 "metadata": {
  "interpreter": {
   "hash": "d0304816b5591ea11e8165d623acf36e6e106eaa16da4abfa591515c22a03f7d"
  },
  "kernelspec": {
   "display_name": "Python 3.9.5 64-bit ('base': conda)",
   "language": "python",
   "name": "python3"
  },
  "language_info": {
   "codemirror_mode": {
    "name": "ipython",
    "version": 3
   },
   "file_extension": ".py",
   "mimetype": "text/x-python",
   "name": "python",
   "nbconvert_exporter": "python",
   "pygments_lexer": "ipython3",
   "version": "3.9.5"
  },
  "orig_nbformat": 4
 },
 "nbformat": 4,
 "nbformat_minor": 2
}
